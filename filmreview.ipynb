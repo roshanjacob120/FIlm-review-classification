{
  "nbformat": 4,
  "nbformat_minor": 0,
  "metadata": {
    "colab": {
      "name": "filmreview.ipynb",
      "provenance": [],
      "collapsed_sections": [],
      "authorship_tag": "ABX9TyNgMKszKIj6DAcEuGVHFCba",
      "include_colab_link": true
    },
    "kernelspec": {
      "name": "python3",
      "display_name": "Python 3"
    },
    "language_info": {
      "name": "python"
    },
    "accelerator": "GPU"
  },
  "cells": [
    {
      "cell_type": "markdown",
      "metadata": {
        "id": "view-in-github",
        "colab_type": "text"
      },
      "source": [
        "<a href=\"https://colab.research.google.com/github/roshanjacob120/FIlm-review-classification/blob/master/filmreview.ipynb\" target=\"_parent\"><img src=\"https://colab.research.google.com/assets/colab-badge.svg\" alt=\"Open In Colab\"/></a>"
      ]
    },
    {
      "cell_type": "code",
      "execution_count": null,
      "metadata": {
        "id": "V0_pPz9g9I75"
      },
      "outputs": [],
      "source": [
        "import tensorflow as tf\n",
        "from tensorflow import keras\n",
        "import numpy as np\n"
      ]
    },
    {
      "cell_type": "code",
      "source": [
        "pip install numpy==1.16.1"
      ],
      "metadata": {
        "id": "hsVgJQ3xBkCs"
      },
      "execution_count": null,
      "outputs": []
    },
    {
      "cell_type": "code",
      "source": [
        "data=keras.datasets.imdb"
      ],
      "metadata": {
        "id": "fLC8Sw4y9tD3"
      },
      "execution_count": null,
      "outputs": []
    },
    {
      "cell_type": "code",
      "source": [
        "data.head()"
      ],
      "metadata": {
        "colab": {
          "base_uri": "https://localhost:8080/",
          "height": 166
        },
        "id": "tP5876lvpvKY",
        "outputId": "d25b9334-19ac-490c-a5d0-1452cb4c6566"
      },
      "execution_count": null,
      "outputs": [
        {
          "output_type": "error",
          "ename": "AttributeError",
          "evalue": "ignored",
          "traceback": [
            "\u001b[0;31m---------------------------------------------------------------------------\u001b[0m",
            "\u001b[0;31mAttributeError\u001b[0m                            Traceback (most recent call last)",
            "\u001b[0;32m<ipython-input-7-304fa4ce4ebd>\u001b[0m in \u001b[0;36m<module>\u001b[0;34m()\u001b[0m\n\u001b[0;32m----> 1\u001b[0;31m \u001b[0mdata\u001b[0m\u001b[0;34m.\u001b[0m\u001b[0mhead\u001b[0m\u001b[0;34m(\u001b[0m\u001b[0;34m)\u001b[0m\u001b[0;34m\u001b[0m\u001b[0;34m\u001b[0m\u001b[0m\n\u001b[0m",
            "\u001b[0;31mAttributeError\u001b[0m: module 'keras.api._v2.keras.datasets.imdb' has no attribute 'head'"
          ]
        }
      ]
    },
    {
      "cell_type": "code",
      "source": [
        "(train_data,train_label), (test_data,test_label)=data.load_data(num_words=100000)"
      ],
      "metadata": {
        "id": "CiRnJwD--yKU",
        "colab": {
          "base_uri": "https://localhost:8080/"
        },
        "outputId": "dd8d83c6-c1b7-404a-bf0a-15df4c4a3230"
      },
      "execution_count": null,
      "outputs": [
        {
          "output_type": "stream",
          "name": "stdout",
          "text": [
            "Downloading data from https://storage.googleapis.com/tensorflow/tf-keras-datasets/imdb.npz\n",
            "17465344/17464789 [==============================] - 0s 0us/step\n",
            "17473536/17464789 [==============================] - 0s 0us/step\n"
          ]
        }
      ]
    },
    {
      "cell_type": "code",
      "source": [
        "print(train_data[0])"
      ],
      "metadata": {
        "id": "MThfkzUB_vFQ",
        "colab": {
          "base_uri": "https://localhost:8080/",
          "height": 166
        },
        "outputId": "df2ad10a-5391-432c-cfc9-efbfb26050a5"
      },
      "execution_count": null,
      "outputs": [
        {
          "output_type": "error",
          "ename": "NameError",
          "evalue": "ignored",
          "traceback": [
            "\u001b[0;31m---------------------------------------------------------------------------\u001b[0m",
            "\u001b[0;31mNameError\u001b[0m                                 Traceback (most recent call last)",
            "\u001b[0;32m<ipython-input-4-950dec5b2e00>\u001b[0m in \u001b[0;36m<module>\u001b[0;34m()\u001b[0m\n\u001b[0;32m----> 1\u001b[0;31m \u001b[0mprint\u001b[0m\u001b[0;34m(\u001b[0m\u001b[0mtrain_data\u001b[0m\u001b[0;34m[\u001b[0m\u001b[0;36m0\u001b[0m\u001b[0;34m]\u001b[0m\u001b[0;34m)\u001b[0m\u001b[0;34m\u001b[0m\u001b[0;34m\u001b[0m\u001b[0m\n\u001b[0m",
            "\u001b[0;31mNameError\u001b[0m: name 'train_data' is not defined"
          ]
        }
      ]
    },
    {
      "cell_type": "code",
      "source": [
        "word_index =  keras.datasets.imdb.get_word_index()"
      ],
      "metadata": {
        "id": "DxWGpPAi_2Vd",
        "colab": {
          "base_uri": "https://localhost:8080/"
        },
        "outputId": "fd7d4552-9f0b-461a-ef71-97f8a2376131"
      },
      "execution_count": null,
      "outputs": [
        {
          "output_type": "stream",
          "name": "stdout",
          "text": [
            "Downloading data from https://storage.googleapis.com/tensorflow/tf-keras-datasets/imdb_word_index.json\n",
            "1646592/1641221 [==============================] - 0s 0us/step\n",
            "1654784/1641221 [==============================] - 0s 0us/step\n"
          ]
        }
      ]
    },
    {
      "cell_type": "code",
      "source": [
        "word_index={k:(v+3) for k,v in word_index.items()}\n",
        "word_index[\"<PAD>\"]=0\n",
        "word_index[\"<START>\"]=1\n",
        "word_index[\"<UNK>\"]=2\n",
        "word_index[\"<UNUSED>\"]=3\n"
      ],
      "metadata": {
        "id": "VGFGnQcHR5Br"
      },
      "execution_count": null,
      "outputs": []
    },
    {
      "cell_type": "code",
      "source": [
        "train_data = keras.preprocessing.sequence.pad_sequences(train_data, value=word_index[\"<PAD>\"], padding=\"post\", maxlen=250)\n",
        "test_data = keras.preprocessing.sequence.pad_sequences(test_data, value=word_index[\"<PAD>\"], padding=\"post\", maxlen=250)"
      ],
      "metadata": {
        "id": "d9Fstd81UIWh"
      },
      "execution_count": null,
      "outputs": []
    },
    {
      "cell_type": "code",
      "source": [
        "reverse_word_index=dict([(value,key)for(key,value)in word_index.items()])\n",
        "def decode_review(text):\n",
        "  return \" \".join([reverse_word_index.get(i,\"?\") for i in text])\n",
        "  "
      ],
      "metadata": {
        "id": "52Z8tmNWSm31"
      },
      "execution_count": null,
      "outputs": []
    },
    {
      "cell_type": "code",
      "source": [
        "print(len(test_data[0]),len(test_data[1]))"
      ],
      "metadata": {
        "id": "zljomXPeTywa",
        "colab": {
          "base_uri": "https://localhost:8080/"
        },
        "outputId": "95c0df6e-d3b8-498d-ae68-b6b6f5d581e5"
      },
      "execution_count": null,
      "outputs": [
        {
          "output_type": "stream",
          "name": "stdout",
          "text": [
            "250 250\n"
          ]
        }
      ]
    },
    {
      "cell_type": "code",
      "source": [
        "model = keras.Sequential()\n",
        "model.add(keras.layers.Embedding(100000, 16))\n",
        "model.add(keras.layers.GlobalAveragePooling1D())\n",
        "model.add(keras.layers.Dense(16, activation=\"relu\"))\n",
        "model.add(keras.layers.Dense(1, activation=\"sigmoid\"))\n",
        "\n",
        "model.summary()"
      ],
      "metadata": {
        "id": "Co4NyHTAU2tQ",
        "colab": {
          "base_uri": "https://localhost:8080/"
        },
        "outputId": "dfeaf083-b89c-405b-9a16-9945117a9083"
      },
      "execution_count": null,
      "outputs": [
        {
          "output_type": "stream",
          "name": "stdout",
          "text": [
            "Model: \"sequential\"\n",
            "_________________________________________________________________\n",
            " Layer (type)                Output Shape              Param #   \n",
            "=================================================================\n",
            " embedding (Embedding)       (None, None, 16)          1600000   \n",
            "                                                                 \n",
            " global_average_pooling1d (G  (None, 16)               0         \n",
            " lobalAveragePooling1D)                                          \n",
            "                                                                 \n",
            " dense (Dense)               (None, 16)                272       \n",
            "                                                                 \n",
            " dense_1 (Dense)             (None, 1)                 17        \n",
            "                                                                 \n",
            "=================================================================\n",
            "Total params: 1,600,289\n",
            "Trainable params: 1,600,289\n",
            "Non-trainable params: 0\n",
            "_________________________________________________________________\n"
          ]
        }
      ]
    },
    {
      "cell_type": "code",
      "source": [
        "model.compile(optimizer=\"adam\",loss=\"binary_crossentropy\",metrics=[\"accuracy\"])\n"
      ],
      "metadata": {
        "id": "ikJG_EJEU7zd"
      },
      "execution_count": null,
      "outputs": []
    },
    {
      "cell_type": "code",
      "source": [
        "x_val=train_data[:10000]\n",
        "x_train=train_data[10000:]\n",
        "y_val=train_label[:10000]\n",
        "y_train=train_label[10000:]\n"
      ],
      "metadata": {
        "id": "NNEk-dVEWPQ6"
      },
      "execution_count": null,
      "outputs": []
    },
    {
      "cell_type": "code",
      "source": [
        "fitModel=model.fit(x_train,y_train,epochs=40,batch_size=512,validation_data=(x_val,y_val),verbose=1)"
      ],
      "metadata": {
        "id": "PqAozEtlWxdu",
        "colab": {
          "base_uri": "https://localhost:8080/"
        },
        "outputId": "05b81e16-7135-4611-d05e-b7c9c277a529"
      },
      "execution_count": null,
      "outputs": [
        {
          "output_type": "stream",
          "name": "stdout",
          "text": [
            "Epoch 1/40\n",
            "30/30 [==============================] - 4s 12ms/step - loss: 0.6913 - accuracy: 0.5943 - val_loss: 0.6887 - val_accuracy: 0.6813\n",
            "Epoch 2/40\n",
            "30/30 [==============================] - 0s 8ms/step - loss: 0.6841 - accuracy: 0.7361 - val_loss: 0.6800 - val_accuracy: 0.7509\n",
            "Epoch 3/40\n",
            "30/30 [==============================] - 0s 7ms/step - loss: 0.6713 - accuracy: 0.7825 - val_loss: 0.6652 - val_accuracy: 0.7619\n",
            "Epoch 4/40\n",
            "30/30 [==============================] - 0s 7ms/step - loss: 0.6500 - accuracy: 0.7946 - val_loss: 0.6424 - val_accuracy: 0.7836\n",
            "Epoch 5/40\n",
            "30/30 [==============================] - 0s 7ms/step - loss: 0.6196 - accuracy: 0.8156 - val_loss: 0.6123 - val_accuracy: 0.7923\n",
            "Epoch 6/40\n",
            "30/30 [==============================] - 0s 8ms/step - loss: 0.5803 - accuracy: 0.8282 - val_loss: 0.5753 - val_accuracy: 0.8116\n",
            "Epoch 7/40\n",
            "30/30 [==============================] - 0s 7ms/step - loss: 0.5358 - accuracy: 0.8461 - val_loss: 0.5356 - val_accuracy: 0.8210\n",
            "Epoch 8/40\n",
            "30/30 [==============================] - 0s 7ms/step - loss: 0.4891 - accuracy: 0.8606 - val_loss: 0.4969 - val_accuracy: 0.8321\n",
            "Epoch 9/40\n",
            "30/30 [==============================] - 0s 8ms/step - loss: 0.4428 - accuracy: 0.8756 - val_loss: 0.4592 - val_accuracy: 0.8394\n",
            "Epoch 10/40\n",
            "30/30 [==============================] - 0s 7ms/step - loss: 0.3985 - accuracy: 0.8853 - val_loss: 0.4257 - val_accuracy: 0.8480\n",
            "Epoch 11/40\n",
            "30/30 [==============================] - 0s 7ms/step - loss: 0.3589 - accuracy: 0.8973 - val_loss: 0.3975 - val_accuracy: 0.8575\n",
            "Epoch 12/40\n",
            "30/30 [==============================] - 0s 8ms/step - loss: 0.3249 - accuracy: 0.9055 - val_loss: 0.3745 - val_accuracy: 0.8641\n",
            "Epoch 13/40\n",
            "30/30 [==============================] - 0s 8ms/step - loss: 0.2952 - accuracy: 0.9137 - val_loss: 0.3551 - val_accuracy: 0.8698\n",
            "Epoch 14/40\n",
            "30/30 [==============================] - 0s 7ms/step - loss: 0.2698 - accuracy: 0.9197 - val_loss: 0.3398 - val_accuracy: 0.8737\n",
            "Epoch 15/40\n",
            "30/30 [==============================] - 0s 8ms/step - loss: 0.2477 - accuracy: 0.9279 - val_loss: 0.3270 - val_accuracy: 0.8760\n",
            "Epoch 16/40\n",
            "30/30 [==============================] - 0s 7ms/step - loss: 0.2276 - accuracy: 0.9331 - val_loss: 0.3165 - val_accuracy: 0.8794\n",
            "Epoch 17/40\n",
            "30/30 [==============================] - 0s 7ms/step - loss: 0.2100 - accuracy: 0.9392 - val_loss: 0.3079 - val_accuracy: 0.8796\n",
            "Epoch 18/40\n",
            "30/30 [==============================] - 0s 7ms/step - loss: 0.1944 - accuracy: 0.9439 - val_loss: 0.3014 - val_accuracy: 0.8826\n",
            "Epoch 19/40\n",
            "30/30 [==============================] - 0s 8ms/step - loss: 0.1803 - accuracy: 0.9481 - val_loss: 0.2951 - val_accuracy: 0.8842\n",
            "Epoch 20/40\n",
            "30/30 [==============================] - 0s 8ms/step - loss: 0.1674 - accuracy: 0.9541 - val_loss: 0.2901 - val_accuracy: 0.8847\n",
            "Epoch 21/40\n",
            "30/30 [==============================] - 0s 8ms/step - loss: 0.1551 - accuracy: 0.9580 - val_loss: 0.2871 - val_accuracy: 0.8860\n",
            "Epoch 22/40\n",
            "30/30 [==============================] - 0s 7ms/step - loss: 0.1442 - accuracy: 0.9628 - val_loss: 0.2834 - val_accuracy: 0.8869\n",
            "Epoch 23/40\n",
            "30/30 [==============================] - 0s 8ms/step - loss: 0.1343 - accuracy: 0.9662 - val_loss: 0.2805 - val_accuracy: 0.8881\n",
            "Epoch 24/40\n",
            "30/30 [==============================] - 0s 7ms/step - loss: 0.1259 - accuracy: 0.9680 - val_loss: 0.2802 - val_accuracy: 0.8874\n",
            "Epoch 25/40\n",
            "30/30 [==============================] - 0s 8ms/step - loss: 0.1169 - accuracy: 0.9725 - val_loss: 0.2779 - val_accuracy: 0.8877\n",
            "Epoch 26/40\n",
            "30/30 [==============================] - 0s 7ms/step - loss: 0.1093 - accuracy: 0.9749 - val_loss: 0.2764 - val_accuracy: 0.8874\n",
            "Epoch 27/40\n",
            "30/30 [==============================] - 0s 8ms/step - loss: 0.1021 - accuracy: 0.9777 - val_loss: 0.2759 - val_accuracy: 0.8882\n",
            "Epoch 28/40\n",
            "30/30 [==============================] - 0s 7ms/step - loss: 0.0959 - accuracy: 0.9793 - val_loss: 0.2763 - val_accuracy: 0.8895\n",
            "Epoch 29/40\n",
            "30/30 [==============================] - 0s 8ms/step - loss: 0.0896 - accuracy: 0.9812 - val_loss: 0.2784 - val_accuracy: 0.8878\n",
            "Epoch 30/40\n",
            "30/30 [==============================] - 0s 8ms/step - loss: 0.0837 - accuracy: 0.9836 - val_loss: 0.2766 - val_accuracy: 0.8892\n",
            "Epoch 31/40\n",
            "30/30 [==============================] - 0s 7ms/step - loss: 0.0783 - accuracy: 0.9852 - val_loss: 0.2767 - val_accuracy: 0.8895\n",
            "Epoch 32/40\n",
            "30/30 [==============================] - 0s 8ms/step - loss: 0.0734 - accuracy: 0.9864 - val_loss: 0.2780 - val_accuracy: 0.8897\n",
            "Epoch 33/40\n",
            "30/30 [==============================] - 0s 8ms/step - loss: 0.0689 - accuracy: 0.9871 - val_loss: 0.2791 - val_accuracy: 0.8890\n",
            "Epoch 34/40\n",
            "30/30 [==============================] - 0s 7ms/step - loss: 0.0649 - accuracy: 0.9878 - val_loss: 0.2802 - val_accuracy: 0.8893\n",
            "Epoch 35/40\n",
            "30/30 [==============================] - 0s 7ms/step - loss: 0.0611 - accuracy: 0.9899 - val_loss: 0.2829 - val_accuracy: 0.8888\n",
            "Epoch 36/40\n",
            "30/30 [==============================] - 0s 8ms/step - loss: 0.0572 - accuracy: 0.9903 - val_loss: 0.2828 - val_accuracy: 0.8897\n",
            "Epoch 37/40\n",
            "30/30 [==============================] - 0s 7ms/step - loss: 0.0538 - accuracy: 0.9913 - val_loss: 0.2858 - val_accuracy: 0.8882\n",
            "Epoch 38/40\n",
            "30/30 [==============================] - 0s 7ms/step - loss: 0.0507 - accuracy: 0.9921 - val_loss: 0.2872 - val_accuracy: 0.8890\n",
            "Epoch 39/40\n",
            "30/30 [==============================] - 0s 7ms/step - loss: 0.0478 - accuracy: 0.9929 - val_loss: 0.2904 - val_accuracy: 0.8875\n",
            "Epoch 40/40\n",
            "30/30 [==============================] - 0s 7ms/step - loss: 0.0453 - accuracy: 0.9929 - val_loss: 0.2907 - val_accuracy: 0.8888\n"
          ]
        }
      ]
    },
    {
      "cell_type": "code",
      "source": [
        "results=model.evaluate(test_data,test_label)\n",
        "print(results)"
      ],
      "metadata": {
        "id": "-qdkboP2XV_V",
        "colab": {
          "base_uri": "https://localhost:8080/"
        },
        "outputId": "63430c5f-4bf5-4638-d2a8-a063494f43fb"
      },
      "execution_count": null,
      "outputs": [
        {
          "output_type": "stream",
          "name": "stdout",
          "text": [
            "782/782 [==============================] - 2s 2ms/step - loss: 0.3263 - accuracy: 0.8721\n",
            "[0.32628971338272095, 0.8720800280570984]\n"
          ]
        }
      ]
    },
    {
      "cell_type": "code",
      "source": [
        "print(test_data[0])"
      ],
      "metadata": {
        "id": "tmuuC4PXZzqd"
      },
      "execution_count": null,
      "outputs": []
    },
    {
      "cell_type": "code",
      "source": [
        "model.save(\"model.h5\")"
      ],
      "metadata": {
        "id": "U7cUCEEnVJiP"
      },
      "execution_count": null,
      "outputs": []
    },
    {
      "cell_type": "code",
      "source": [
        "model=keras.models.load_model(\"model.h5\")"
      ],
      "metadata": {
        "id": "3CALcrhlVrJZ"
      },
      "execution_count": null,
      "outputs": []
    },
    {
      "cell_type": "code",
      "source": [
        "test_review=test_data[1]\n",
        "print(\"Review: \")\n",
        "print(decode_review(train_data[0]))\n",
        "print(decode_review(test_review))"
      ],
      "metadata": {
        "id": "ge8s_1cs9cCp",
        "colab": {
          "base_uri": "https://localhost:8080/"
        },
        "outputId": "73c211d4-fef3-4d45-c792-690521a61180"
      },
      "execution_count": null,
      "outputs": [
        {
          "output_type": "stream",
          "name": "stdout",
          "text": [
            "Review: \n",
            "<START> this film was just brilliant casting location scenery story direction everyone's really suited the part they played and you could just imagine being there robert redford's is an amazing actor and now the same being director norman's father came from the same scottish island as myself so i loved the fact there was a real connection with this film the witty remarks throughout the film were great it was just brilliant so much that i bought the film as soon as it was released for retail and would recommend it to everyone to watch and the fly fishing was amazing really cried at the end it was so sad and you know what they say if you cry at a film it must have been good and this definitely was also congratulations to the two little boy's that played the part's of norman and paul they were just brilliant children are often left out of the praising list i think because the stars that play them all grown up are such a big profile for the whole film but these children are amazing and should be praised for what they have done don't you think the whole story was so lovely because it was true and was someone's life after all that was shared with us all <PAD> <PAD> <PAD> <PAD> <PAD> <PAD> <PAD> <PAD> <PAD> <PAD> <PAD> <PAD> <PAD> <PAD> <PAD> <PAD> <PAD> <PAD> <PAD> <PAD> <PAD> <PAD> <PAD> <PAD> <PAD> <PAD> <PAD> <PAD> <PAD> <PAD> <PAD> <PAD>\n",
            "focuses on mood and character development the plot is very simple and many of the scenes take place on the same set in frances austen's the sandy dennis character apartment but the film builds to a disturbing climax br br the characters create an atmosphere rife with sexual tension and psychological trickery it's very interesting that robert altman directed this considering the style and structure of his other films still the trademark altman audio style is evident here and there i think what really makes this film work is the brilliant performance by sandy dennis it's definitely one of her darker characters but she plays it so perfectly and convincingly that it's scary michael burns does a good job as the mute young man regular altman player michael murphy has a small part the solemn moody set fits the content of the story very well in short this movie is a powerful study of loneliness sexual repression and desperation be patient soak up the atmosphere and pay attention to the wonderfully written script br br i praise robert altman this is one of his many films that deals with unconventional fascinating subject matter this film is disturbing but it's sincere and it's sure to elicit a strong emotional response from the viewer if you want to see an unusual film some might even say bizarre this is worth the time br br unfortunately it's very difficult to find in video stores you may have to buy it off the internet\n"
          ]
        }
      ]
    },
    {
      "cell_type": "code",
      "source": [
        "test_review = test_data[0]\n",
        "prediction = model.predict(np.array([test_review]))\n",
        "print(\"Review: \" + decode_review(test_review))\n",
        "print(\"Prediction: \" + str(prediction[0]))\n",
        "print(\"Actual: \" + str(test_label[0]))"
      ],
      "metadata": {
        "id": "KwiTAMq7XqPl",
        "colab": {
          "base_uri": "https://localhost:8080/"
        },
        "outputId": "844f972d-3d1d-4a69-ecf0-0ff1fa99e1bd"
      },
      "execution_count": null,
      "outputs": [
        {
          "output_type": "stream",
          "name": "stdout",
          "text": [
            "Review: <START> please give this one a miss br br kristy swanson and the rest of the cast rendered terrible performances the show is flat flat flat br br i don't know how michael madison could have allowed this one on his plate he almost seemed to know this wasn't going to work out and his performance was quite lacklustre so all you madison fans give this a miss <PAD> <PAD> <PAD> <PAD> <PAD> <PAD> <PAD> <PAD> <PAD> <PAD> <PAD> <PAD> <PAD> <PAD> <PAD> <PAD> <PAD> <PAD> <PAD> <PAD> <PAD> <PAD> <PAD> <PAD> <PAD> <PAD> <PAD> <PAD> <PAD> <PAD> <PAD> <PAD> <PAD> <PAD> <PAD> <PAD> <PAD> <PAD> <PAD> <PAD> <PAD> <PAD> <PAD> <PAD> <PAD> <PAD> <PAD> <PAD> <PAD> <PAD> <PAD> <PAD> <PAD> <PAD> <PAD> <PAD> <PAD> <PAD> <PAD> <PAD> <PAD> <PAD> <PAD> <PAD> <PAD> <PAD> <PAD> <PAD> <PAD> <PAD> <PAD> <PAD> <PAD> <PAD> <PAD> <PAD> <PAD> <PAD> <PAD> <PAD> <PAD> <PAD> <PAD> <PAD> <PAD> <PAD> <PAD> <PAD> <PAD> <PAD> <PAD> <PAD> <PAD> <PAD> <PAD> <PAD> <PAD> <PAD> <PAD> <PAD> <PAD> <PAD> <PAD> <PAD> <PAD> <PAD> <PAD> <PAD> <PAD> <PAD> <PAD> <PAD> <PAD> <PAD> <PAD> <PAD> <PAD> <PAD> <PAD> <PAD> <PAD> <PAD> <PAD> <PAD> <PAD> <PAD> <PAD> <PAD> <PAD> <PAD> <PAD> <PAD> <PAD> <PAD> <PAD> <PAD> <PAD> <PAD> <PAD> <PAD> <PAD> <PAD> <PAD> <PAD> <PAD> <PAD> <PAD> <PAD> <PAD> <PAD> <PAD> <PAD> <PAD> <PAD> <PAD> <PAD> <PAD> <PAD> <PAD> <PAD> <PAD> <PAD> <PAD> <PAD> <PAD> <PAD> <PAD> <PAD> <PAD> <PAD> <PAD> <PAD> <PAD> <PAD> <PAD> <PAD> <PAD> <PAD> <PAD> <PAD> <PAD> <PAD>\n",
            "Prediction: [0.07072189]\n",
            "Actual: 0\n"
          ]
        }
      ]
    },
    {
      "cell_type": "code",
      "source": [
        "prediction = model.predict(test_data) \n",
        "\n",
        "for i in range(10):\n",
        "    print(\"Review\", test_data[i])\n",
        "    print(\"Decoded: \", decode_review(test_data[i]))\n",
        "    print(\"Actual: \", str(test_label[i]))\n",
        "    print(\"Predicted: \", str(prediction[i]))"
      ],
      "metadata": {
        "id": "hZLRAsetUxiM",
        "colab": {
          "base_uri": "https://localhost:8080/"
        },
        "outputId": "96241f7f-c1d3-4c1b-e14e-4391114f37b9"
      },
      "execution_count": null,
      "outputs": [
        {
          "output_type": "stream",
          "name": "stdout",
          "text": [
            "Review [    1   591   202    14    31     6   717    10    10 18142 10698     5\n",
            "     4   360     7     4   177  5760   394   354     4   123     9  1035\n",
            "  1035  1035    10    10    13    92   124    89   488  7944   100    28\n",
            "  1668    14    31    23    27  7479    29   220   468     8   124    14\n",
            "   286   170     8   157    46     5    27   239    16   179 15387    38\n",
            "    32    25  7944   451   202    14     6   717     0     0     0     0\n",
            "     0     0     0     0     0     0     0     0     0     0     0     0\n",
            "     0     0     0     0     0     0     0     0     0     0     0     0\n",
            "     0     0     0     0     0     0     0     0     0     0     0     0\n",
            "     0     0     0     0     0     0     0     0     0     0     0     0\n",
            "     0     0     0     0     0     0     0     0     0     0     0     0\n",
            "     0     0     0     0     0     0     0     0     0     0     0     0\n",
            "     0     0     0     0     0     0     0     0     0     0     0     0\n",
            "     0     0     0     0     0     0     0     0     0     0     0     0\n",
            "     0     0     0     0     0     0     0     0     0     0     0     0\n",
            "     0     0     0     0     0     0     0     0     0     0     0     0\n",
            "     0     0     0     0     0     0     0     0     0     0     0     0\n",
            "     0     0     0     0     0     0     0     0     0     0     0     0\n",
            "     0     0     0     0     0     0     0     0     0     0     0     0\n",
            "     0     0     0     0     0     0     0     0     0     0     0     0\n",
            "     0     0     0     0     0     0     0     0     0     0]\n",
            "Decoded:  <START> please give this one a miss br br kristy swanson and the rest of the cast rendered terrible performances the show is flat flat flat br br i don't know how michael madison could have allowed this one on his plate he almost seemed to know this wasn't going to work out and his performance was quite lacklustre so all you madison fans give this a miss <PAD> <PAD> <PAD> <PAD> <PAD> <PAD> <PAD> <PAD> <PAD> <PAD> <PAD> <PAD> <PAD> <PAD> <PAD> <PAD> <PAD> <PAD> <PAD> <PAD> <PAD> <PAD> <PAD> <PAD> <PAD> <PAD> <PAD> <PAD> <PAD> <PAD> <PAD> <PAD> <PAD> <PAD> <PAD> <PAD> <PAD> <PAD> <PAD> <PAD> <PAD> <PAD> <PAD> <PAD> <PAD> <PAD> <PAD> <PAD> <PAD> <PAD> <PAD> <PAD> <PAD> <PAD> <PAD> <PAD> <PAD> <PAD> <PAD> <PAD> <PAD> <PAD> <PAD> <PAD> <PAD> <PAD> <PAD> <PAD> <PAD> <PAD> <PAD> <PAD> <PAD> <PAD> <PAD> <PAD> <PAD> <PAD> <PAD> <PAD> <PAD> <PAD> <PAD> <PAD> <PAD> <PAD> <PAD> <PAD> <PAD> <PAD> <PAD> <PAD> <PAD> <PAD> <PAD> <PAD> <PAD> <PAD> <PAD> <PAD> <PAD> <PAD> <PAD> <PAD> <PAD> <PAD> <PAD> <PAD> <PAD> <PAD> <PAD> <PAD> <PAD> <PAD> <PAD> <PAD> <PAD> <PAD> <PAD> <PAD> <PAD> <PAD> <PAD> <PAD> <PAD> <PAD> <PAD> <PAD> <PAD> <PAD> <PAD> <PAD> <PAD> <PAD> <PAD> <PAD> <PAD> <PAD> <PAD> <PAD> <PAD> <PAD> <PAD> <PAD> <PAD> <PAD> <PAD> <PAD> <PAD> <PAD> <PAD> <PAD> <PAD> <PAD> <PAD> <PAD> <PAD> <PAD> <PAD> <PAD> <PAD> <PAD> <PAD> <PAD> <PAD> <PAD> <PAD> <PAD> <PAD> <PAD> <PAD> <PAD> <PAD> <PAD> <PAD> <PAD> <PAD> <PAD> <PAD> <PAD> <PAD> <PAD>\n",
            "Actual:  0\n",
            "Predicted:  [0.07072188]\n",
            "Review [ 2679    23  1310     5   109   943     4   114     9    55   606     5\n",
            "   111     7     4   139   193   273    23     4   172   270    11  7216\n",
            " 10626     4  8463  2801   109  1603    21     4    22  3861     8     6\n",
            "  1193  1330    10    10     4   105   987    35   841 16873    19   861\n",
            "  1074     5  1987 17975    45    55   221    15   670  5304   526    14\n",
            "  1069     4   405     5  2438     7    27    85   108   131     4  5045\n",
            "  5304  3884   405     9  3523   133     5    50    13   104    51    66\n",
            "   166    14    22   157     9     4   530   239    34  8463  2801    45\n",
            "   407    31     7    41  3778   105    21    59   299    12    38   950\n",
            "     5  4521    15    45   629   488  2733   127     6    52   292    17\n",
            "     4  6936   185   132  1988  5304  1799   488  2693    47     6   392\n",
            "   173     4 21686  4378   270  2352     4  1500     7     4    65    55\n",
            "    73    11   346    14    20     9     6   976  2078     7  5293   861\n",
            " 12746     5  4182    30  3127 23651    56     4   841     5   990   692\n",
            "     8     4  1669   398   229    10    10    13  2822   670  5304    14\n",
            "     9    31     7    27   111   108    15  2033    19  7836  1429   875\n",
            "   551    14    22     9  1193    21    45  4829     5    45   252     8\n",
            " 12508     6   565   921  3639    39     4   529    48    25   181     8\n",
            "    67    35  1732    22    49   238    60   135  1162    14     9   290\n",
            "     4    58    10    10   472    45    55   878     8   169    11   374\n",
            "  5687    25   203    28     8   818    12   125     4  3077]\n",
            "Decoded:  focuses on mood and character development the plot is very simple and many of the scenes take place on the same set in frances austen's the sandy dennis character apartment but the film builds to a disturbing climax br br the characters create an atmosphere rife with sexual tension and psychological trickery it's very interesting that robert altman directed this considering the style and structure of his other films still the trademark altman audio style is evident here and there i think what really makes this film work is the brilliant performance by sandy dennis it's definitely one of her darker characters but she plays it so perfectly and convincingly that it's scary michael burns does a good job as the mute young man regular altman player michael murphy has a small part the solemn moody set fits the content of the story very well in short this movie is a powerful study of loneliness sexual repression and desperation be patient soak up the atmosphere and pay attention to the wonderfully written script br br i praise robert altman this is one of his many films that deals with unconventional fascinating subject matter this film is disturbing but it's sincere and it's sure to elicit a strong emotional response from the viewer if you want to see an unusual film some might even say bizarre this is worth the time br br unfortunately it's very difficult to find in video stores you may have to buy it off the internet\n",
            "Actual:  1\n",
            "Predicted:  [0.99871004]\n",
            "Review [  711  7937 25399  3292    98     6 31036    10    10  6639    19    14\n",
            " 10241   267   162   711    37  5900   752    98     4 17345  2378    90\n",
            "    19     6 73284     7 36744  1810 77553     4  4770  3183   930     8\n",
            "   508    90     4  1317     8     4 48414    17 15454  3965  1853     4\n",
            "  1494     8  4468   189     4 31036  6287  5774     4  4770     5    95\n",
            "   271    23     6  7742  6063 21627  5437    33  1526     6   425  3155\n",
            " 33697  4535  1636     7     4  4669 11966   469     4  4552    54     4\n",
            "   150  5664 17345   280    53 68411 25399    18   339    29  1978    27\n",
            "  7885     5 17303    68  1830    19  6571 14605     4  1515     7   263\n",
            "    65  2132    34     6  5680  7489    43   159    29     9  4706     9\n",
            "   387    73   195   584    10    10  1069     4    58   810    54    14\n",
            "  6078   117    22    16    93     5  1069     4   192    15    12    16\n",
            "    93    34     6  1766 28228    33     4  5673     7    15 18760  9252\n",
            "  3286   325    12    62    30   776     8    67    14    17     6 12214\n",
            "    44   148   687 24563   203    42   203    24    28    69 32157  6676\n",
            "    11   330    54    29    93 61862    21   845 14148    27  1099     7\n",
            "   819     4    22  1407    17     6 14967   787     7  2460 19569 61862\n",
            "   100    30     4  3737  3617  3169  2321    42  1898    11     4  3814\n",
            "    42   101   704     7   101   999    15  1625    94  2926   180     5\n",
            "     9  9101    34 15205    45     6  1429    22    60     6  1220    31\n",
            "    11    94  6408    96    21    94   749     9    57   975]\n",
            "Decoded:  king irritated jupiter sends them a stork br br delighted with this formidable looking new king who towers above them the frogs welcome him with a delegation of formally dressed dignitaries the mayor steps forward to hand him the key to the commonwealth as newsreel cameras record the event to everyone's horror the stork promptly eats the mayor and then goes on a merry rampage swallowing citizens at random a title card dryly reads news of the king's appetite throughout the kingdom when the now terrified frogs once more beseech jupiter for help he loses his temper and showers their community with lightning bolts the moral of our story delivered by a hapless frog just before he is eaten is let well enough alone br br considering the time period when this startling little film was made and considering the fact that it was made by a russian émigré at the height of that beleaguered country's civil war it would be easy to see this as a parable about those events starewicz may or may not have had russia's turmoil in mind when he made frogland but whatever prompted his choice of material the film stands as a cautionary tale of universal application frogland could be the soviet union italy germany or japan in the 1930s or any country of any era that lets its guard down and is overwhelmed by tyranny it's a fascinating film even a charming one in its macabre way but its message is no joke\n",
            "Actual:  1\n",
            "Predicted:  [0.66379863]\n",
            "Review [    1    13  1228   119    14   552     7    20   190    14    58    13\n",
            "   258   546  1786     8  1968     4   268   237    13   191    81    15\n",
            "    13    80    43  3824    44    12    14    16   427  3192     4   183\n",
            "    15   593    19     4   351   362    26    55   646    21     4  1239\n",
            "    84    26  1557  3755    13   244     6  2071   132   184   194     5\n",
            "    13    70  4478   546    73   190    13    62    24    81   320     4\n",
            "   538     4   117   250   127    11    14    20    82     4   452    11\n",
            "    14    20     9  8654    19    41   476     8     4   213     7  9185\n",
            "    13   657    13   286    38  1612    44    41     5    41  1729    88\n",
            "    13    62    28   900   510     4   509    51     6   612    59    16\n",
            "   193    61  4666     5   702   930   143   285    25    67    41    81\n",
            "   366     4   130    82     9   259   334   397  1195     7   149   102\n",
            "    15    26   814    38   465  1627    31    70   983    67    51     9\n",
            "   112   814    17    35   311    75    26 11649   574    19     4  1729\n",
            "    23     4   268    38    95   138     4   609   191    75    28   314\n",
            "  1772     0     0     0     0     0     0     0     0     0     0     0\n",
            "     0     0     0     0     0     0     0     0     0     0     0     0\n",
            "     0     0     0     0     0     0     0     0     0     0     0     0\n",
            "     0     0     0     0     0     0     0     0     0     0     0     0\n",
            "     0     0     0     0     0     0     0     0     0     0     0     0\n",
            "     0     0     0     0     0     0     0     0     0     0]\n",
            "Decoded:  <START> i generally love this type of movie however this time i found myself wanting to kick the screen since i can't do that i will just complain about it this was absolutely idiotic the things that happen with the dead kids are very cool but the alive people are absolute idiots i am a grown man pretty big and i can defend myself well however i would not do half the stuff the little girl does in this movie also the mother in this movie is reckless with her children to the point of neglect i wish i wasn't so angry about her and her actions because i would have otherwise enjoyed the flick what a number she was take my advise and fast forward through everything you see her do until the end also is anyone else getting sick of watching movies that are filmed so dark anymore one can hardly see what is being filmed as an audience we are impossibly involved with the actions on the screen so then why the hell can't we have night vision <PAD> <PAD> <PAD> <PAD> <PAD> <PAD> <PAD> <PAD> <PAD> <PAD> <PAD> <PAD> <PAD> <PAD> <PAD> <PAD> <PAD> <PAD> <PAD> <PAD> <PAD> <PAD> <PAD> <PAD> <PAD> <PAD> <PAD> <PAD> <PAD> <PAD> <PAD> <PAD> <PAD> <PAD> <PAD> <PAD> <PAD> <PAD> <PAD> <PAD> <PAD> <PAD> <PAD> <PAD> <PAD> <PAD> <PAD> <PAD> <PAD> <PAD> <PAD> <PAD> <PAD> <PAD> <PAD> <PAD> <PAD> <PAD> <PAD> <PAD> <PAD> <PAD> <PAD> <PAD> <PAD> <PAD> <PAD> <PAD> <PAD>\n",
            "Actual:  0\n",
            "Predicted:  [0.4200986]\n",
            "Review [    1    40    49    85    84  1040   146     6   783   254  4386   337\n",
            "     5    13   447    14   500    10    10    14   500   517  1076   357\n",
            "    21  1684    72    45   290    12    17   515    17    25   380   129\n",
            "  3305     4  2191    26   253     5 14203    36    80  4357    25 24529\n",
            "   129   330   505     8 17607   146    24  3988    14   500     9    82\n",
            " 13973     5     9  1293   224    10    10     8   401    14  1361   879\n",
            "    13    28     8   401    61  1642  2925    44  1373    21   591   353\n",
            "    14   500  4092    30   290    12    10    10    65   790   790   206\n",
            "   158   300    45    15    52 43777   158   692 30093   158   856   158\n",
            "     0     0     0     0     0     0     0     0     0     0     0     0\n",
            "     0     0     0     0     0     0     0     0     0     0     0     0\n",
            "     0     0     0     0     0     0     0     0     0     0     0     0\n",
            "     0     0     0     0     0     0     0     0     0     0     0     0\n",
            "     0     0     0     0     0     0     0     0     0     0     0     0\n",
            "     0     0     0     0     0     0     0     0     0     0     0     0\n",
            "     0     0     0     0     0     0     0     0     0     0     0     0\n",
            "     0     0     0     0     0     0     0     0     0     0     0     0\n",
            "     0     0     0     0     0     0     0     0     0     0     0     0\n",
            "     0     0     0     0     0     0     0     0     0     0     0     0\n",
            "     0     0     0     0     0     0     0     0     0     0     0     0\n",
            "     0     0     0     0     0     0     0     0     0     0]\n",
            "Decoded:  <START> like some other people wrote i'm a die hard mario fan and i loved this game br br this game starts slightly boring but trust me it's worth it as soon as you start your hooked the levels are fun and exiting they will hook you 'till your mind turns to mush i'm not kidding this game is also orchestrated and is beautifully done br br to keep this spoiler free i have to keep my mouth shut about details but please try this game it'll be worth it br br story 9 9 action 10 1 it's that good hardness 10 attention grabber 10 average 10 <PAD> <PAD> <PAD> <PAD> <PAD> <PAD> <PAD> <PAD> <PAD> <PAD> <PAD> <PAD> <PAD> <PAD> <PAD> <PAD> <PAD> <PAD> <PAD> <PAD> <PAD> <PAD> <PAD> <PAD> <PAD> <PAD> <PAD> <PAD> <PAD> <PAD> <PAD> <PAD> <PAD> <PAD> <PAD> <PAD> <PAD> <PAD> <PAD> <PAD> <PAD> <PAD> <PAD> <PAD> <PAD> <PAD> <PAD> <PAD> <PAD> <PAD> <PAD> <PAD> <PAD> <PAD> <PAD> <PAD> <PAD> <PAD> <PAD> <PAD> <PAD> <PAD> <PAD> <PAD> <PAD> <PAD> <PAD> <PAD> <PAD> <PAD> <PAD> <PAD> <PAD> <PAD> <PAD> <PAD> <PAD> <PAD> <PAD> <PAD> <PAD> <PAD> <PAD> <PAD> <PAD> <PAD> <PAD> <PAD> <PAD> <PAD> <PAD> <PAD> <PAD> <PAD> <PAD> <PAD> <PAD> <PAD> <PAD> <PAD> <PAD> <PAD> <PAD> <PAD> <PAD> <PAD> <PAD> <PAD> <PAD> <PAD> <PAD> <PAD> <PAD> <PAD> <PAD> <PAD> <PAD> <PAD> <PAD> <PAD> <PAD> <PAD> <PAD> <PAD> <PAD> <PAD> <PAD> <PAD> <PAD> <PAD> <PAD> <PAD> <PAD> <PAD> <PAD> <PAD> <PAD> <PAD> <PAD> <PAD> <PAD> <PAD>\n",
            "Actual:  1\n",
            "Predicted:  [0.98636067]\n",
            "Review [    1   146   427  5718    14    20   218   112  2962    32    37   119\n",
            "    14    20   144  9493   910     5  8817     4  4659    18    12  3403\n",
            "   853    28     8  2225    12    95   474   818  4651    18  1462    13\n",
            "   124   285     5  1462    11    14    20   122     6    52   292     5\n",
            "    13   774  2626    46   138   910  1481   276    14    20    23   288\n",
            "    42    23  1856    11  2364  5687    33   222    13   774   110   101\n",
            "  4651    14     9     6  3799    52    20     5   144    30   110    34\n",
            "    32     4   362    11     4   162  2248    92    79     8    67    12\n",
            "     5    13   104    36   144    12   144    33   222    30   276   145\n",
            "    23     4  1308    14    20   152  1833     6   706 10134    12  1015\n",
            "     4   147   155   146    98   150    14    20    80    30    23   288\n",
            "     0     0     0     0     0     0     0     0     0     0     0     0\n",
            "     0     0     0     0     0     0     0     0     0     0     0     0\n",
            "     0     0     0     0     0     0     0     0     0     0     0     0\n",
            "     0     0     0     0     0     0     0     0     0     0     0     0\n",
            "     0     0     0     0     0     0     0     0     0     0     0     0\n",
            "     0     0     0     0     0     0     0     0     0     0     0     0\n",
            "     0     0     0     0     0     0     0     0     0     0     0     0\n",
            "     0     0     0     0     0     0     0     0     0     0     0     0\n",
            "     0     0     0     0     0     0     0     0     0     0     0     0\n",
            "     0     0     0     0     0     0     0     0     0     0]\n",
            "Decoded:  <START> i'm absolutely disgusted this movie isn't being sold all who love this movie should email disney and increase the demand for it they'd eventually have to sell it then i'd buy copies for everybody i know everything and everybody in this movie did a good job and i haven't figured out why disney hasn't put this movie on dvd or on vhs in rental stores at least i haven't seen any copies this is a wicked good movie and should be seen by all the kids in the new generation don't get to see it and i think they should it should at least be put back on the channel this movie doesn't deserve a cheap download it deserves the real thing i'm them now this movie will be on dvd <PAD> <PAD> <PAD> <PAD> <PAD> <PAD> <PAD> <PAD> <PAD> <PAD> <PAD> <PAD> <PAD> <PAD> <PAD> <PAD> <PAD> <PAD> <PAD> <PAD> <PAD> <PAD> <PAD> <PAD> <PAD> <PAD> <PAD> <PAD> <PAD> <PAD> <PAD> <PAD> <PAD> <PAD> <PAD> <PAD> <PAD> <PAD> <PAD> <PAD> <PAD> <PAD> <PAD> <PAD> <PAD> <PAD> <PAD> <PAD> <PAD> <PAD> <PAD> <PAD> <PAD> <PAD> <PAD> <PAD> <PAD> <PAD> <PAD> <PAD> <PAD> <PAD> <PAD> <PAD> <PAD> <PAD> <PAD> <PAD> <PAD> <PAD> <PAD> <PAD> <PAD> <PAD> <PAD> <PAD> <PAD> <PAD> <PAD> <PAD> <PAD> <PAD> <PAD> <PAD> <PAD> <PAD> <PAD> <PAD> <PAD> <PAD> <PAD> <PAD> <PAD> <PAD> <PAD> <PAD> <PAD> <PAD> <PAD> <PAD> <PAD> <PAD> <PAD> <PAD> <PAD> <PAD> <PAD> <PAD> <PAD> <PAD> <PAD> <PAD> <PAD> <PAD> <PAD> <PAD> <PAD> <PAD>\n",
            "Actual:  1\n",
            "Predicted:  [0.88658935]\n",
            "Review [    4  3183    26  1061    19  3103     7  2260  7050     5   905   567\n",
            "     9   210  5062     5    24  3759   246     4  1114  1218     7     4\n",
            "  2456     7     6   171    80   236    11     4  2638     7     4   529\n",
            "  1437    10    10     4 22510   665     7 11788  7561     5  2977 15874\n",
            "     4  3183    26  4519 21384    19   196  3541  3788    39     6  2739\n",
            "    33     4   350     7     4  3183     4  1062     7     4   720     9\n",
            "  4042  7188   200     4 11788  1340     5     6   171  8862    37 17369\n",
            "    56  3158     8  7017    98     8   570     6   491    56     7     6\n",
            "  3219   393  7250    11   189   103   112  3502    34     6 18283  2554\n",
            "     9     4  1504 52873     7     4  1982 11056    11  7398    11  8289\n",
            "     5   408     6  5863  1384     7     4   189     7     4 34102  7936\n",
            "    10    10     4   341     7     6   185   452   832     8     6   896\n",
            " 15935 50226   180     4  3183    11     6   720    15    47    77  6573\n",
            "    34  2912    11  2189 29485    34  3973  8150    11  3829     5  1620\n",
            " 12293    11     4 35807    14   720     9   617  3727    39   998  2445\n",
            "  1346  3862    46    51   242    16    64     6   677   333  1494    10\n",
            "    10 39760     9     6    22    15     4  4198  1103 13002    12    18\n",
            "   148   460  2534     5    12    18     4 55697    12 51055     7   968\n",
            "     5 20598    19     4  4271 18885     7     4 12603 34102  7936    94\n",
            "   833  1488    47    77    23    22  1537    37    28  4902     5    64\n",
            "  1076  3827    23  3362  5161    11  5421   450  5122   596]\n",
            "Decoded:  the steps are filled with hundreds of extras rapid and dramatic violence is always suggested and not explicit yet the visual images of the deaths of a few will last in the minds of the viewer forever br br the angular shots of marching boots and legs descending the steps are cleverly accentuated with long menacing shadows from a sun at the top of the steps the pace of the sequence is deliberately varied between the marching soldiers and a few civilians who summon up courage to beg them to stop a close up of a woman's face frozen in horror after being struck by a soldier's sword is the direct antecedent of the bank teller in bonnie in clyde and gives a lasting impression of the horror of the czarist regime br br the death of a young mother leads to a baby carriage careening down the steps in a sequence that has been copied by hitchcock in foreign correspondent by terry gilliam in brazil and brian depalma in the untouchables this sequence is shown repeatedly from various angles thus drawing out what probably was only a five second event br br potemkin is a film that the revolutionary spirit celebrates it for those already committed and it for the unconverted it seethes of fire and roars with the senseless injustices of the decadent czarist regime its greatest impact has been on film students who have borrowed and only slightly improved on techniques invented in russia several generations ago\n",
            "Actual:  1\n",
            "Predicted:  [0.99111384]\n",
            "Review [    1     4 14839   745 86533   912     9 20923     8 83400  1820  5889\n",
            "   912   190    54 23140  8408  7024  2957    11   513     8  2225     6\n",
            "  1853  1799     8     4  5110    27   912     9  2982    34 83400   912\n",
            "   103     6  1060  1274   121 23140     9 16250    39   513     6 20482\n",
            "  5692    15 83400   912   215  6275   912    38    15    59    70  3083\n",
            "    41 29702  3564    14     9  6749     5     4  2515   809    11   119\n",
            "    38    81 23140     5 45406     4   360     7     4    22  4097    34\n",
            "    19   883     5    33     4   130 83400   912   408  2540    21    37\n",
            "     9     4   336    10    10     4   912    65     9     4    55   815\n",
            "  2196    15     9   343     8   353     5   987     6    65   200  1714\n",
            "    94     6   394   769    50    26   342   293   621  1328    32     7\n",
            "    63    26  1916    78   690     5  2150  3822    94    43    35   576\n",
            "   357    22  8408    47    99   111   715    11   257  4130     5  1545\n",
            "    98    11    35   220  2227  1377    94    24   163   126    21    94\n",
            "   981     8    30  8408     5  1820    28   224    76   128    74    14\n",
            "     0     0     0     0     0     0     0     0     0     0     0     0\n",
            "     0     0     0     0     0     0     0     0     0     0     0     0\n",
            "     0     0     0     0     0     0     0     0     0     0     0     0\n",
            "     0     0     0     0     0     0     0     0     0     0     0     0\n",
            "     0     0     0     0     0     0     0     0     0     0     0     0\n",
            "     0     0     0     0     0     0     0     0     0     0]\n",
            "Decoded:  <START> the emperor's richard haydn dog is betrothed to johanna's joan fontaine dog however when virgil bing crosby arrives in town to sell a record player to the emperor his dog is attacked by johanna's dog after a revenge attack where virgil is banished from town a psychoanalyst insists that johanna's dog must confront dog so that she can overcome her doggy fears this is arranged and the dogs fall in love so do virgil and johanna the rest of the film passes by with romance and at the end johanna's dog gives birth but who is the father br br the dog story is the very weak vehicle that is used to try and create a story between humans its a terrible storyline there are 3 main musical pieces all of which are rubbish bad songs and dreadful choreography its just an extremely boring film bing has too many words in each sentence and delivers them in an almost irritating manner its not funny ever but its meant to be bing and joan have done much better than this <PAD> <PAD> <PAD> <PAD> <PAD> <PAD> <PAD> <PAD> <PAD> <PAD> <PAD> <PAD> <PAD> <PAD> <PAD> <PAD> <PAD> <PAD> <PAD> <PAD> <PAD> <PAD> <PAD> <PAD> <PAD> <PAD> <PAD> <PAD> <PAD> <PAD> <PAD> <PAD> <PAD> <PAD> <PAD> <PAD> <PAD> <PAD> <PAD> <PAD> <PAD> <PAD> <PAD> <PAD> <PAD> <PAD> <PAD> <PAD> <PAD> <PAD> <PAD> <PAD> <PAD> <PAD> <PAD> <PAD> <PAD> <PAD> <PAD> <PAD> <PAD> <PAD> <PAD> <PAD> <PAD> <PAD> <PAD> <PAD> <PAD> <PAD>\n",
            "Actual:  0\n",
            "Predicted:  [0.01180448]\n",
            "Review [    1   363    69     6   196   119  1586    19  6514 15614  3527  2953\n",
            "    21   171     7   134  7016    28  3405     4  2181     7    58     4\n",
            "    91   906    71     4  2636  2370  2907 44609   108    63    28   196\n",
            "   237   413  1250    14    31     9  1061    19  2278   690 15953 11639\n",
            "     5  2764    45     6   371  9687     7  6247     5   184   751 13949\n",
            "   639    12    16  2305    18    94  3268   318   302    63    26   220\n",
            " 51487    11    14   251     5   559 10071  1424     7  2873  1381     4\n",
            "    64  1339  1123   792    63  6095     9    94   307  1399     5  7890\n",
            "   619     8   135     7     4   111   108    93    11    14   512   171\n",
            "     7    98   216    56     8  3802 23745   204  3036     7 17485   220\n",
            "   101    85 15614  3527    22     9  1731     8    14    31   151    45\n",
            "     6  3358     0     0     0     0     0     0     0     0     0     0\n",
            "     0     0     0     0     0     0     0     0     0     0     0     0\n",
            "     0     0     0     0     0     0     0     0     0     0     0     0\n",
            "     0     0     0     0     0     0     0     0     0     0     0     0\n",
            "     0     0     0     0     0     0     0     0     0     0     0     0\n",
            "     0     0     0     0     0     0     0     0     0     0     0     0\n",
            "     0     0     0     0     0     0     0     0     0     0     0     0\n",
            "     0     0     0     0     0     0     0     0     0     0     0     0\n",
            "     0     0     0     0     0     0     0     0     0     0     0     0\n",
            "     0     0     0     0     0     0     0     0     0     0]\n",
            "Decoded:  <START> hollywood had a long love affair with bogus arabian nights tales but few of these products have stood the test of time the most memorable were the jon hall maria montez films which have long since become camp this one is filled with dubbed songs anachronistic slang and slapstick it's a truly crop of corn and pretty near intolerable today it was nominated for its imaginative special effects which are almost unnoticeable in this day and age consisting mainly of trick photography the only outstanding positive feature which survives is its beautiful color and clarity sad to say of the many films made in this genre few of them come up to alexander korda's original thief of baghdad almost any other arabian nights film is superior to this one though it's a loser <PAD> <PAD> <PAD> <PAD> <PAD> <PAD> <PAD> <PAD> <PAD> <PAD> <PAD> <PAD> <PAD> <PAD> <PAD> <PAD> <PAD> <PAD> <PAD> <PAD> <PAD> <PAD> <PAD> <PAD> <PAD> <PAD> <PAD> <PAD> <PAD> <PAD> <PAD> <PAD> <PAD> <PAD> <PAD> <PAD> <PAD> <PAD> <PAD> <PAD> <PAD> <PAD> <PAD> <PAD> <PAD> <PAD> <PAD> <PAD> <PAD> <PAD> <PAD> <PAD> <PAD> <PAD> <PAD> <PAD> <PAD> <PAD> <PAD> <PAD> <PAD> <PAD> <PAD> <PAD> <PAD> <PAD> <PAD> <PAD> <PAD> <PAD> <PAD> <PAD> <PAD> <PAD> <PAD> <PAD> <PAD> <PAD> <PAD> <PAD> <PAD> <PAD> <PAD> <PAD> <PAD> <PAD> <PAD> <PAD> <PAD> <PAD> <PAD> <PAD> <PAD> <PAD> <PAD> <PAD> <PAD> <PAD> <PAD> <PAD> <PAD> <PAD> <PAD> <PAD> <PAD> <PAD> <PAD> <PAD> <PAD> <PAD> <PAD> <PAD> <PAD> <PAD> <PAD> <PAD>\n",
            "Actual:  0\n",
            "Predicted:  [0.93768597]\n",
            "Review [   22   151    12 21671    32     4  1403 18598     7   405   258    11\n",
            "  1354     6  6118   229    15 17416     4 37921   200    24    43   107\n",
            "    21   289   105  5386 18379  5719     8     4  4796  8173     7  2065\n",
            "     5   718  4462    17     4  6199    11     4    86    22   246    18\n",
            "    32    14    12  1287     6 16558   465    22   283     8     4    96\n",
            "     4  1354    16   210   981     8    30     5   545  2349    10    10\n",
            "   488  2065  1747    17     4  1354     5    27  6765  3530  1478  2451\n",
            "    19 13496  2431 68121  1368  3590   773    11  9658     7     4  8712\n",
            "  1124  1295   284    27  1943    11   823 17075 86921     4  8976  1738\n",
            " 13214    11   530  2430  2781     7  5428 13624   745  3448     5 49443\n",
            "  5134     4 15716  2861  6984   937  2451  6978   199    17   309     5\n",
            "    17     4  1354     4   689  6495   471    11   321   354   262  3590\n",
            "     5 13214   137   295  2065     5  6984  3739     4  3778   499     7\n",
            "  1405  8681    10    10    50    26    49  1774  5867    11    14    22\n",
            "    44     4    64  5340    13    70    66   213    46     9     6   813\n",
            "     8     4   229    11    49  1370    63    13   104     9   688   669\n",
            "     8     4    96    14    22     9     6   689 15704   548    50   331\n",
            "   218   195    58     8  2887  3739   803   170    23    10    10  2185\n",
            "    14     9     6  1543    52    22    13   545   386   149    14    11\n",
            " 20274    19     4    86     5    95 14356    18    89    52     4   201\n",
            "   100    28    77    69    12  3501   467  3555     5  2065]\n",
            "Decoded:  film though it repairs all the minor deficiencies of style found in batman a weaker script that splits the antagonism between not just two but three characters invites unflattering comparisons to the masterful pairing of keaton and jack nicholson as the joker in the first film yet for all this it remains a gorgeously dark film true to the way the batman was always meant to be and highly satisfying br br michael keaton returns as the batman and his alter ego bruce wayne with tycoon max schreck christopher walken named in honour of the 1920s german silent actor his partner in crime oswald cobblepot the penguin danny devito in brilliant makeup reminiscent of laurence olivier's richard iii and selina kyle the catwoman michelle pfeiffer whom wayne romances both as himself and as the batman the four principals turn in excellent performances especially walken and devito while together keaton and pfeiffer explore the darker side of double identities br br there are some intriguing concepts in this film about the only weakness i can really point out is a certain to the script in some places which i think is due mostly to the way this film is a four cornered fight there simply isn't enough time to properly explore what's going on br br nevertheless this is a damn good film i highly recommend watching this in conjunction with the first and then weeping for how good the series could have been had it continued under burton and keaton\n",
            "Actual:  1\n",
            "Predicted:  [0.999193]\n"
          ]
        }
      ]
    }
  ]
}